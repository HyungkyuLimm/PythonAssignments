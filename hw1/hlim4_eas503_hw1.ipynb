{
 "cells": [
  {
   "cell_type": "markdown",
   "metadata": {},
   "source": [
    "## EAS 503 Homework 1 Submission\n",
    "Name - Hyungkyu Lim\n",
    "\n",
    "**Make sure that you rename the notebook file to *replacewithubitname*_eas503_hw1.ipynb**\n",
    "\n",
    "\n",
    "### Submission Details\n",
    "* **Due Date** - September 25, 2018 by 11:59 PM EST. All assignments have to be submitted using UBLearns.\n",
    "* **Number of Problems** - 4\n",
    "* **Maximum points** - 50\n",
    "* **Collaboration policy**\n",
    " - Every student has to submit individual homeworks\n",
    " - Any collaboration, in the form of discussion, with other members of the class is permitted, as long as the names of the collaborating members are explicitly stated on top of the submitted homework.\n",
    " - Any overlap with another submission or material from Internet will be awarded an F.\n",
    "* **Late submission policy** - _No late submissions allowed_\n",
    "* **Submission Format** - Enter code for each problem in the appropriate cell below. You may use multiple cells for a single problem to improve readability.\n",
    "* **Testing Protocol** - To grade, we will simply execute your notebook from command line using the following command:\n",
    "```shell\n",
    "jupyter nbconvert --execute <notebook>\n",
    "```\n",
    "Please make sure that your notebook produces the desired output with the above command, before submitting."
   ]
  },
  {
   "cell_type": "markdown",
   "metadata": {},
   "source": [
    "### Problem 1 - Testing for  Fibonacci Number (10 Points)\n",
    "Develop functions to handle [Fibonacci numbers](http://mathworld.wolfram.com/FibonacciNumber.html). Try to design the quickest possible algorithm and record the time taken for the code to run.\n",
    "\n",
    "Test if a number belongs to the Fibonacci series, using `if-else` conditions. The logic of testing if a number, $n$, belongs to the Fibonacci series is: if one or both of $(5*n^2 + 4)$ or $(5*n^2 – 4)$ is a perfect square.\n",
    "\n",
    "Here is what you need to do:\n",
    "1. You will need to implement the function `fibonacciGenerator`, which takes no inputs. The function should return a Python `list` of length 25, with first 25 Fibonacci numbers.\n",
    "2. You will need to define a function `fibonacciTester`, which takes a single number as input, and returns `true` if the number belongs to the Fibonacci series, and `false` otherwise. "
   ]
  },
  {
   "cell_type": "code",
   "execution_count": 1,
   "metadata": {},
   "outputs": [
    {
     "name": "stdout",
     "output_type": "stream",
     "text": [
      "[0, 1, 1, 2, 3, 5, 8, 13, 21, 34, 55, 89, 144, 233, 377, 610, 987, 1597, 2584, 4181, 6765, 10946, 17711, 28657, 46368]\n",
      "The code took 0 seconds.\n"
     ]
    }
   ],
   "source": [
    "def fibonacciGenerator():\n",
    "    a=0\n",
    "    b=1\n",
    "    fibonacci_list=[]\n",
    "    fibonacci_list.append(a)\n",
    "    fibonacci_list.append(b)\n",
    "    for number in range(23):\n",
    "        b= a+b\n",
    "        a= b-a \n",
    "        fibonacci_list.append(b)\n",
    "    return fibonacci_list\n",
    "import time\n",
    "st = time.time()\n",
    "l = fibonacciGenerator()\n",
    "en = time.time()\n",
    "print(l)\n",
    "print(\"The code took %d seconds.\"%(en - st))"
   ]
  },
  {
   "cell_type": "code",
   "execution_count": 2,
   "metadata": {},
   "outputs": [
    {
     "name": "stdout",
     "output_type": "stream",
     "text": [
      "True\n",
      "True\n",
      "True\n",
      "False\n",
      "True\n",
      "False\n",
      "False\n",
      "True\n",
      "False\n",
      "False\n",
      "False\n",
      "False\n",
      "True\n",
      "False\n",
      "False\n",
      "False\n",
      "False\n",
      "False\n",
      "False\n",
      "False\n",
      "The code took 0 seconds.\n"
     ]
    }
   ],
   "source": [
    "import math\n",
    "\n",
    "def perfect_Square(x):\n",
    "    a = int(math.sqrt(x))\n",
    "    return x  == a**2\n",
    "\n",
    "def fibonacciTester(n):\n",
    "    fibonacci_series = 5 * (n**2) + 4\n",
    "    fibonacci_series1 = 5 * (n**2) - 4\n",
    "    if perfect_Square(fibonacci_series) or perfect_Square(fibonacci_series1) :\n",
    "        return True\n",
    "    else:\n",
    "        return False\n",
    "\n",
    "import time\n",
    "st = time.time()\n",
    "for i in range(1,21):\n",
    "    v = fibonacciTester(i)\n",
    "    print(v)\n",
    "en = time.time()\n",
    "print(\"The code took %d seconds.\"%(en - st))"
   ]
  },
  {
   "cell_type": "markdown",
   "metadata": {},
   "source": [
    "### Problem 2 - Handling Exceptions (10 Points)\n",
    "In this problem you will read from a text file (**data_p2.txt**) included in the assignment. Please download it and store it in the same directory as this notebook. The code for reading data from the file is given below. You need to store the data and perform a simple mathematical operation on each data point. Each line is _supposed_ to contain a floating point number. But what you will observe is that some lines might have erroneous entries. You need to ignore those lines (Hint: Use `Exception` handling). \n",
    "\n",
    "The idea is to implement a function, `computeMedian()`, which reads in a file and computes the median of the numbers and returns the output. You may use the inbuilt function `sort` when computing the median.\n",
    "\n",
    "_DO NOT USE ANY INBUILT OR OTHER FUNCTION TO DIRECTLY COMPUTE MEDIAN_"
   ]
  },
  {
   "cell_type": "code",
   "execution_count": 3,
   "metadata": {},
   "outputs": [],
   "source": [
    "# Reading from a file. The following code just reads in every line in a text file without doing anything with it.\n",
    "# You can use the code in your solution. Do not call this function in your implementation.\n",
    "def dummyFileReader():\n",
    "    with open('data_p2.txt','r') as f: #we open the file in 'read' mode. The 'with' clause is similar to 'finally' clause\n",
    "        for line in f: #iterate over the file line by line\n",
    "            s = line.strip() #strip() removes the endline character at the end of the line. Line is of type 'str'"
   ]
  },
  {
   "cell_type": "code",
   "execution_count": 5,
   "metadata": {},
   "outputs": [
    {
     "name": "stdout",
     "output_type": "stream",
     "text": [
      "0.499675\n"
     ]
    }
   ],
   "source": [
    "def computeMedian(file):\n",
    "    with open(file,'r') as f:\n",
    "        num_list=[]\n",
    "        \n",
    "        for line in f:\n",
    "            s = line.strip()\n",
    "            try:\n",
    "                number = float(s)\n",
    "                num_list.append(number)\n",
    "            except ValueError:\n",
    "                pass\n",
    "                           \n",
    "    num_list.sort()\n",
    "    n = len(num_list)\n",
    "\n",
    "    if n <=0:\n",
    "        return -1\n",
    "    \n",
    "    if n % 2 == 0:\n",
    "        a = n/2\n",
    "        median_even = (num_list[a] + num_list[a+1])/2\n",
    "        return median_even\n",
    "    \n",
    "    else :\n",
    "        half = int(n/2)\n",
    "        median_odd = num_list[half]\n",
    "        return median_odd\n",
    "    \n",
    "   \n",
    "\n",
    "\n",
    "print(computeMedian('data_p2.txt'))\n"
   ]
  },
  {
   "cell_type": "markdown",
   "metadata": {},
   "source": [
    "### Problem 3 - Benchmarking Dictionary Performance (10 Points)\n",
    "We want to check the peformance of the Python inbuilt `del` routine for dropping elements from a dictionary. The question that we want answer for is: \n",
    "_Does the time required to delete an element from a Python dictionary depend on the size of the dictionary and on the location of the target element?_\n",
    "\n",
    "In each step of the experiment do the following: \n",
    "- Create a dictionary of integers from 1 to N, with your own desired keys. \n",
    "- Within a loop, delete the $i^{th}$ element. Measure the time taken to delete the element (Hint: use the `time` package in Python).\n",
    "\n",
    "Conduct the above experiment for $N = 1,000,000$ and $i$ ranging from $1$ to $1,000,000$ in steps of $10,000$. Make sure that you are recreating the Python dictionary every time. Save the times in a list (let us name it `timeMillion`).\n",
    "\n",
    "Repeat the above experiment, but set $N = 10,000,000$. This time, vary $i$ from $1$ to $10,000,000$ in steps of $100,000$. Save the times for this experiment in another list, say, `time10Million`.\n",
    "\n",
    "Plot the two lists using the `matplotlib.pyplot` package. See below for a sample code. You can plot both lists in the same chart to compare.\n",
    "\n",
    "Using the plots, answer the following (create a markup cell after your code cell(s) and enter your responses):\n",
    "1. Does the cost of deleting an element depend on the dictionary size?\n",
    "2. Does the cost of deleting an element depend on the location of the deleted element?\n",
    "\n"
   ]
  },
  {
   "cell_type": "code",
   "execution_count": 5,
   "metadata": {},
   "outputs": [
    {
     "data": {
      "text/plain": [
       "[<matplotlib.lines.Line2D at 0x1079b69b0>]"
      ]
     },
     "execution_count": 5,
     "metadata": {},
     "output_type": "execute_result"
    },
    {
     "data": {
      "image/png": "[encoded data removed]",
      "text/plain": [
       "<matplotlib.figure.Figure at 0x109b44cc0>"
      ]
     },
     "metadata": {},
     "output_type": "display_data"
    }
   ],
   "source": [
    "# This cell is only for demonstration purposes, you can reuse parts of this code to create your own plots\n",
    "# Using matplotlib for plotting\n",
    "import matplotlib.pyplot as plt\n",
    "%matplotlib inline \n",
    "# above line is needed to make sure that the plots are displayed in the notebook.\n",
    "\n",
    "#generate some dummy data\n",
    "x = list(range(0, 20)) # generate a list\n",
    "y = [x1**2+2*x1 for x1 in x] # create a new list using the original list. Note the Pythonic inline creation of lists.\n",
    "y1 = [x1**2.3 for x1 in x]\n",
    "plt.plot(x,y)\n",
    "plt.plot(x,y1)"
   ]
  },
  {
   "cell_type": "code",
   "execution_count": 4,
   "metadata": {},
   "outputs": [
    {
     "data": {
      "text/plain": [
       "[<matplotlib.lines.Line2D at 0x110823cf8>]"
      ]
     },
     "execution_count": 4,
     "metadata": {},
     "output_type": "execute_result"
    },
    {
     "data": {
      "image/png": "[encoded data removed]",
      "text/plain": [
       "<matplotlib.figure.Figure at 0x11559ccf8>"
      ]
     },
     "metadata": {},
     "output_type": "display_data"
    }
   ],
   "source": [
    "import matplotlib.pyplot as plt\n",
    "import time\n",
    "\n",
    "\n",
    "timeMillion=[]\n",
    "for a in range(1,5):\n",
    "    average_difference_time=[]\n",
    "    for i in range(1,1000000,10000):\n",
    "        dictionary = {a: a for a in range(1,1000000)}\n",
    "        init_time= time.time()\n",
    "        del dictionary[i]\n",
    "        end_time = time.time() \n",
    "        difference_time = end_time - init_time\n",
    "        timeMillion.append(difference_time)\n",
    "        average_difference_time.append(sum(timeMillion)/100)\n",
    "\n",
    "    \n",
    "\n",
    "time10Million=[]\n",
    "for b in range(1,5): \n",
    "    average_difference_time1=[]\n",
    "    for i2 in range(1,10000000,100000):\n",
    "        dictionary2 = {b: b for b in range(1,10000000)}\n",
    "        init_time2= time.time()\n",
    "        del dictionary2[i2]\n",
    "        end_time2=time.time()\n",
    "        difference_time2 = end_time2-init_time2\n",
    "        time10Million.append(difference_time2)\n",
    "        average_difference_time1.append(sum(time10Million)/100)\n",
    "    \n",
    "plt.plot(average_difference_time, color='green')\n",
    "plt.plot(average_difference_time1, color='red')\n",
    "\n",
    "    "
   ]
  },
  {
   "cell_type": "code",
   "execution_count": 31,
   "metadata": {},
   "outputs": [
    {
     "data": {
      "text/plain": [
       "'As I guess, size and target do not affect the del performance of the dictionary. Dictionay has its own key for the item. When we do delete the key in dicitonary, the time would be constant; Big O notation: O(1). Based on the graph I generated, you can see there is a difference between two lists; timeMillion and time10Million. However, time difference is almost same for deleting each ith element. With this, the range of the time is so small to check the difference between each time difference.'"
      ]
     },
     "execution_count": 31,
     "metadata": {},
     "output_type": "execute_result"
    }
   ],
   "source": [
    "'''As I guess, size and target do not affect the del performance of the dictionary. Dictionay has its own key for the item. When we do delete the key in dicitonary, the time would be constant; Big O notation: O(1). Based on the graph I generated, you can see there is a difference between two lists; timeMillion and time10Million. However, time difference is almost same for deleting each ith element. With this, the range of the time is so small to check the difference between each time difference.'''"
   ]
  },
  {
   "cell_type": "markdown",
   "metadata": {},
   "source": [
    "## Problem 4 - The Two Envelopes Problem (20 Points)\n",
    "The Two Envelopes problem is an interesting decision theory problem.\n",
    "\n",
    "> Consider that you are given two indistinguishable envelopes, each containing money, one contains twice as much as the other. You may pick one envelope and keep the money it contains. Having chosen an envelope at will, but before inspecting it, you are given the chance to switch envelopes. Should you switch?\n",
    "\n",
    "> The game is this: _stick_ or _switch_; It seems obvious that there is no point in switching envelopes as the situation is symmetric. However, because you stand to gain twice as much money if you switch while risking only a loss of half of what you currently have, it is possible to argue that it is more beneficial to switch.The problem is to show what is wrong with this argument.\n",
    "\n",
    "**Two Envelopes problem**: Implement a function, called `simulateProblem()`, that does the game simulation for the two envelopes problem. Run the simulation 1000 times to figure out the empirical (observed) probability of gaining more money when switching and gaining more money when sticking to the original choice. Each simulation operates as follows:\n",
    "1. First, randomly pick an envelopes configuration out of the two possible configurations, $(A,2A)$ or $(2A,A)$. In the first configuration, the second envelope has twice the money and in the second configuration, the first envelope has twice the money.\n",
    "2. Next, randomly pick one of the two envelopes. \n",
    "3. Finally, randomly choose to either stick or switch. The program checks if you won (the envelope that picked has more money) or not (the envelope that picked has less money). In case of winning, record if the winning was because of _sticking_ or _switching_.\n",
    "\n",
    "You can perform the _random_ choice as follows, using the `np.random.randint()` method.\n",
    "```python\n",
    "import numpy as np\n",
    "print(np.random.randint(2))\n",
    "```\n",
    "The `simulateProblem()` function takes no arguments and returns two values, first is a boolean output which is `True` if you win and `False` if you lose. In case of a win, the second output is `True` if the win was due to _sticking_ and `False` if the win was due to _switching_.\n",
    "\n",
    "Once the method `simulateProblem()` that does the above steps and returns _sticking_,or _switching_, depending on the win/loss scenario, run the method 1000 times and count the number of times the win was due to _sticking_ to the pick in Step 2, and number of times the win was due to _switching_ the envelope."
   ]
  },
  {
   "cell_type": "code",
   "execution_count": 7,
   "metadata": {},
   "outputs": [
    {
     "name": "stdout",
     "output_type": "stream",
     "text": [
      "Number of win by sticking : 257\n",
      "Number of win by switching : 217\n",
      "Probability of win by sticking : 0.257\n",
      "Probability of win by sticking : 0.217\n"
     ]
    }
   ],
   "source": [
    "import numpy as np\n",
    "\n",
    "def simulateProblem():\n",
    "    # Enter your solution here\n",
    "    envelope_config = [['A','2A'],['2A','A']]\n",
    "    \n",
    "    pick_envelope = envelope_config[np.random.randint(0,2)]\n",
    "    \n",
    "    pick_money = pick_envelope[np.random.randint(0,2)]\n",
    "    \n",
    "    pick_list=['A','2A']\n",
    "    \n",
    "    \n",
    "    if pick_money == 'A':\n",
    "        pick_decide = pick_list[np.random.randint(0,2)]\n",
    "        if pick_money != pick_decide:\n",
    "            return False #Switching\n",
    "        else:\n",
    "            return \"lose\"\n",
    "         \n",
    "    if pick_money == '2A':\n",
    "        pick_decide = pick_list[np.random.randint(0,2)]\n",
    "        if pick_money == pick_decide:\n",
    "            return True #Sticking\n",
    "        else:\n",
    "            return \"lose\"\n",
    "    \n",
    "            \n",
    "sticking = 0\n",
    "switching= 0\n",
    "# add more code belwo to count the number of wins due to sticking and switching\n",
    "# and finally compute the desired probabilities\n",
    "\n",
    "for i in range(1000):\n",
    "    result = simulateProblem()\n",
    "    if result == True:\n",
    "            sticking= sticking+1\n",
    "    elif result == False:\n",
    "            switching= switching+1\n",
    "    else :\n",
    "        pass\n",
    "    \n",
    "\n",
    "    \n",
    "print(\"Number of win by sticking :\",sticking)\n",
    "print(\"Number of win by switching :\",switching)\n",
    "print(\"Probability of win by sticking :\", sticking/1000)\n",
    "print(\"Probability of win by sticking :\", switching/1000)"
   ]
  },
  {
   "cell_type": "markdown",
   "metadata": {},
   "source": [
    "### Which is better - sticking or switching?\n",
    "Use the simulation results to figure out the right answer."
   ]
  },
  {
   "cell_type": "code",
   "execution_count": 4,
   "metadata": {},
   "outputs": [
    {
     "data": {
      "text/plain": [
       "' When I re-run this code several times, it seems that it does not matter whether you switch or stick to the original choice. As the result, both actions have the same probabilities.'"
      ]
     },
     "execution_count": 4,
     "metadata": {},
     "output_type": "execute_result"
    }
   ],
   "source": [
    "''' When I re-run this code several times, it seems that it does not matter whether you switch or stick to the original choice. As the result, both actions have the same probabilities.'''"
   ]
  }
 ],
 "metadata": {
  "kernelspec": {
   "display_name": "Python 3",
   "language": "python",
   "name": "python3"
  },
  "language_info": {
   "codemirror_mode": {
    "name": "ipython",
    "version": 3
   },
   "file_extension": ".py",
   "mimetype": "text/x-python",
   "name": "python",
   "nbconvert_exporter": "python",
   "pygments_lexer": "ipython3",
   "version": "3.6.4"
  }
 },
 "nbformat": 4,
 "nbformat_minor": 2
}
